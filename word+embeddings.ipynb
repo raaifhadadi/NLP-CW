{
 "cells": [
  {
   "cell_type": "code",
   "execution_count": 9,
   "metadata": {},
   "outputs": [
    {
     "name": "stderr",
     "output_type": "stream",
     "text": [
      "/tmp/ipykernel_14995/328324305.py:3: DeprecationWarning: \n",
      "Pyarrow will become a required dependency of pandas in the next major release of pandas (pandas 3.0),\n",
      "(to allow more performant data types, such as the Arrow string type, and better interoperability with other libraries)\n",
      "but was not found to be installed on your system.\n",
      "If this would cause problems for you,\n",
      "please provide us feedback at https://github.com/pandas-dev/pandas/issues/54466\n",
      "        \n",
      "  import pandas as pd\n"
     ]
    }
   ],
   "source": [
    "import numpy as np\n",
    "import matplotlib.pyplot as plt\n",
    "import pandas as pd"
   ]
  },
  {
   "cell_type": "code",
   "execution_count": 16,
   "metadata": {},
   "outputs": [
    {
     "name": "stdout",
     "output_type": "stream",
     "text": [
      "--2024-02-15 13:27:47--  https://nlp.stanford.edu/data/glove.840B.300d.zip\n",
      "Resolving nlp.stanford.edu (nlp.stanford.edu)... 171.64.67.140\n",
      "Connecting to nlp.stanford.edu (nlp.stanford.edu)|171.64.67.140|:443... connected.\n",
      "HTTP request sent, awaiting response... 301 Moved Permanently\n",
      "Location: https://downloads.cs.stanford.edu/nlp/data/glove.840B.300d.zip [following]\n",
      "--2024-02-15 13:27:48--  https://downloads.cs.stanford.edu/nlp/data/glove.840B.300d.zip\n",
      "Resolving downloads.cs.stanford.edu (downloads.cs.stanford.edu)... 171.64.64.22\n",
      "Connecting to downloads.cs.stanford.edu (downloads.cs.stanford.edu)|171.64.64.22|:443... connected.\n",
      "HTTP request sent, awaiting response... 200 OK\n",
      "Length: 2176768927 (2.0G) [application/zip]\n",
      "Saving to: ‘glove.840B.300d.zip’\n",
      "\n",
      "glove.840B.300d.zip 100%[===================>]   2.03G  4.98MB/s    in 6m 49s  \n",
      "\n",
      "2024-02-15 13:34:38 (5.07 MB/s) - ‘glove.840B.300d.zip’ saved [2176768927/2176768927]\n",
      "\n"
     ]
    }
   ],
   "source": [
    "!wget https://nlp.stanford.edu/data/glove.840B.300d.zip\n",
    "!wget https://nlp.stanford.edu/data/glove.twitter.27B.zip"
   ]
  },
  {
   "cell_type": "code",
   "execution_count": 17,
   "metadata": {},
   "outputs": [
    {
     "name": "stdout",
     "output_type": "stream",
     "text": [
      "Archive:  glove.840B.300d.zip\n",
      "  inflating: glove.840B.300d.txt     \n"
     ]
    }
   ],
   "source": [
    "!unzip glove*.zip"
   ]
  },
  {
   "cell_type": "code",
   "execution_count": 11,
   "metadata": {},
   "outputs": [],
   "source": [
    "file_path = \"train_data/dontpatronizeme_pcl.tsv\"\n",
    "df = pd.read_csv(file_path, sep='\\t', header=None,\n",
    "                    names=['paragraph-id', 'keyword', 'countrycode', \"paragraph\", \"label\"])\n",
    "df_filtered = df[df['paragraph'].notna()]\n",
    "corpus = list(df_filtered['paragraph'])\n"
   ]
  },
  {
   "cell_type": "code",
   "execution_count": 12,
   "metadata": {},
   "outputs": [],
   "source": [
    "def load_glove_embeddings(file_path):\n",
    "    embeddings_index = {}\n",
    "    with open(file_path, 'r', encoding='utf-8') as f:\n",
    "        for line in f:\n",
    "            values = line.split()\n",
    "            word = values[0]\n",
    "            coefs = np.asarray(values[1:], dtype='float32')\n",
    "            embeddings_index[word] = coefs\n",
    "    return embeddings_index\n",
    "\n",
    "glove_embeddings = load_glove_embeddings('glove.twitter.27B/glove.twitter.27B.100d.txt')  # Example GloVe file path"
   ]
  },
  {
   "cell_type": "code",
   "execution_count": 15,
   "metadata": {},
   "outputs": [],
   "source": [
    "# get paragraph embeddings (using average of word embeddings)\n",
    "def get_paragraph_embedding(paragraph, embeddings_index):\n",
    "    words = paragraph.split()\n",
    "    embedding = np.zeros(100)\n",
    "    for word in words:\n",
    "        embedding += embeddings_index.get(word, np.zeros(100))\n",
    "    return embedding / len(words)"
   ]
  },
  {
   "cell_type": "code",
   "execution_count": 19,
   "metadata": {},
   "outputs": [
    {
     "name": "stdout",
     "output_type": "stream",
     "text": [
      "We 're living in times of absolute insanity , as I 'm pretty sure most people are aware . For a while , waking up every day to check the news seemed to carry with it the same feeling of panic and dread that action heroes probably face when they 're trying to decide whether to cut the blue or green wire on a ticking bomb -- except the bomb 's instructions long ago burned in a fire and imminent catastrophe seems the likeliest outcome . It 's hard to stay that on-edge for that long , though , so it 's natural for people to become inured to this constant chaos , to slump into a malaise of hopelessness and pessimism .\n"
     ]
    },
    {
     "data": {
      "text/plain": [
       "array([ 2.34734244e-01, -1.05824039e-02,  1.07013805e-01,  4.81873519e-02,\n",
       "        8.13100753e-03,  2.67956953e-01,  5.99198332e-02, -7.92780559e-02,\n",
       "       -2.39852674e-02, -9.53960566e-02,  3.51326544e-03, -1.69566308e-01,\n",
       "       -4.09382498e+00, -1.13127627e-01,  3.49672215e-02, -1.13758118e-01,\n",
       "        4.06611158e-05, -7.00293714e-02, -2.52650937e-01, -6.03921200e-02,\n",
       "       -1.30373633e-01, -1.08965550e-02, -9.12724522e-02, -2.39224587e-02,\n",
       "        8.33090937e-03, -2.52200352e-01, -3.76449088e-02,  9.39880612e-02,\n",
       "        1.70000059e-01,  1.33418125e-02,  6.43824726e-02,  2.59630724e-02,\n",
       "       -1.40079938e-01,  5.96865214e-02,  4.74513018e-03,  6.94051220e-02,\n",
       "       -3.84192019e-02, -5.38969128e-02, -1.78497436e-02, -7.03657367e-02,\n",
       "       -5.97040061e-01,  1.38044549e-02,  3.05410809e-02,  1.13446139e-02,\n",
       "        2.69230484e-01, -5.34902567e-02,  6.63583734e-02,  9.46224589e-02,\n",
       "       -5.12506344e-02,  2.57549086e-02, -9.08796798e-02,  5.12149788e-02,\n",
       "        1.02684905e-01,  7.00090767e-03, -3.19860320e-02,  9.02360752e-02,\n",
       "       -1.84661053e-01, -6.53487583e-03,  7.54368464e-02,  9.84642557e-02,\n",
       "        3.04129284e-02,  1.24387961e-01, -1.10784153e-01, -6.72238607e-02,\n",
       "        2.49110679e-01, -4.81547260e-02, -6.84777627e-02, -7.18551967e-02,\n",
       "       -4.88601995e-02,  1.41399752e-02,  5.15669017e-02, -1.96237979e-02,\n",
       "       -6.07515757e-02,  4.81908270e-02,  1.78503139e-01, -2.93150466e-02,\n",
       "       -6.71056835e-02, -1.25867253e-01,  2.37146420e-03,  2.05700879e-02,\n",
       "        1.30745907e+00,  1.39975629e-01,  7.53350983e-02,  1.02291164e-01,\n",
       "        1.52287865e-01,  8.99359912e-02, -1.23266215e-02,  1.25712678e-01,\n",
       "       -9.67924829e-02, -1.38460015e-02, -1.43802264e-02,  6.66969487e-02,\n",
       "        1.40823530e-01, -2.71317803e-02, -1.63457527e-01, -8.14063648e-02,\n",
       "        1.31249659e-02, -1.38940842e-01,  1.22322228e-01, -2.70069039e-02])"
      ]
     },
     "execution_count": 19,
     "metadata": {},
     "output_type": "execute_result"
    }
   ],
   "source": [
    "print(corpus[0])\n",
    "\n",
    "get_paragraph_embedding(corpus[0], glove_embeddings)"
   ]
  }
 ],
 "metadata": {
  "kernelspec": {
   "display_name": "Python 3",
   "language": "python",
   "name": "python3"
  },
  "language_info": {
   "codemirror_mode": {
    "name": "ipython",
    "version": 3
   },
   "file_extension": ".py",
   "mimetype": "text/x-python",
   "name": "python",
   "nbconvert_exporter": "python",
   "pygments_lexer": "ipython3",
   "version": "3.10.12"
  }
 },
 "nbformat": 4,
 "nbformat_minor": 2
}

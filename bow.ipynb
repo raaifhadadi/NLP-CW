{
 "cells": [
  {
   "cell_type": "code",
   "execution_count": 1,
   "metadata": {},
   "outputs": [],
   "source": [
    "import numpy as np\n",
    "import matplotlib.pyplot as plt\n",
    "import pandas as pd"
   ]
  },
  {
   "cell_type": "code",
   "execution_count": 7,
   "metadata": {},
   "outputs": [],
   "source": [
    "# File paths for both training and test data\n",
    "train_path = \"train_data/dontpatronizeme_pcl.tsv\"\n",
    "test_path = \"test_data/task4_test.tsv\"\n",
    "\n",
    "# Read training data\n",
    "train_df = pd.read_csv(train_path, sep='\\t', header=None,\n",
    "                       names=['id', 'paragraph-id', 'keyword', 'countrycode', \"paragraph\", \"label\"])\n",
    "train_df_filtered = train_df[train_df['paragraph'].notna()]\n",
    "\n",
    "# Read test data\n",
    "test_df = pd.read_csv(test_path, sep='\\t', header=None,\n",
    "                      names=['paragraph-id', 'keyword', 'countrycode', \"paragraph\"])\n",
    "\n",
    "# Concatenate training and test data\n",
    "combined_df = pd.concat([train_df_filtered, test_df])\n",
    "\n",
    "# Extract corpus\n",
    "corpus = list(combined_df['paragraph'])"
   ]
  },
  {
   "cell_type": "code",
   "execution_count": 15,
   "metadata": {},
   "outputs": [],
   "source": [
    "def bag_of_words():\n",
    "    from sklearn.feature_extraction.text import CountVectorizer\n",
    "    vectorizer = CountVectorizer()\n",
    "    X = vectorizer.fit_transform(corpus)\n",
    "    return X.toarray()\n"
   ]
  },
  {
   "cell_type": "code",
   "execution_count": 16,
   "metadata": {},
   "outputs": [
    {
     "name": "stdout",
     "output_type": "stream",
     "text": [
      "(14300, 35456)\n"
     ]
    }
   ],
   "source": [
    "bag_of_words = bag_of_words()\n",
    "print(bag_of_words.shape)"
   ]
  }
 ],
 "metadata": {
  "kernelspec": {
   "display_name": "Python 3",
   "language": "python",
   "name": "python3"
  },
  "language_info": {
   "codemirror_mode": {
    "name": "ipython",
    "version": 3
   },
   "file_extension": ".py",
   "mimetype": "text/x-python",
   "name": "python",
   "nbconvert_exporter": "python",
   "pygments_lexer": "ipython3",
   "version": "3.9.13"
  }
 },
 "nbformat": 4,
 "nbformat_minor": 2
}
